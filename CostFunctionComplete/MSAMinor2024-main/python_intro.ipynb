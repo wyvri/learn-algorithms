{
 "cells": [
  {
   "cell_type": "code",
   "execution_count": 1,
   "metadata": {},
   "outputs": [
    {
     "name": "stdout",
     "output_type": "stream",
     "text": [
      "Kristofferson Culmer\n"
     ]
    }
   ],
   "source": [
    "#print my name\n",
    "print(\"Kristofferson Culmer\")"
   ]
  },
  {
   "cell_type": "code",
   "execution_count": 2,
   "metadata": {},
   "outputs": [
    {
     "name": "stdout",
     "output_type": "stream",
     "text": [
      "24\n",
      "35\n"
     ]
    }
   ],
   "source": [
    "# Variable assignments \n",
    "number_1 = 24\n",
    "number_2 = 35\n",
    "my_name = \"Kristofferson\"\n",
    "\n",
    "print(number_1)\n",
    "print(number_2)"
   ]
  },
  {
   "cell_type": "code",
   "execution_count": 4,
   "metadata": {},
   "outputs": [
    {
     "name": "stdout",
     "output_type": "stream",
     "text": [
      "24 * 35 = 840\n"
     ]
    }
   ],
   "source": [
    "#Multiply number 1 and numbner 2\n",
    "product = number_1 * number_2\n",
    "print(f\"{number_1} * {number_2} = {product}\")"
   ]
  },
  {
   "cell_type": "code",
   "execution_count": 7,
   "metadata": {},
   "outputs": [
    {
     "name": "stdout",
     "output_type": "stream",
     "text": [
      "124\n",
      "77.4\n",
      "93\n",
      "124\n",
      "77.4\n",
      "93\n",
      "32\n",
      "47\n"
     ]
    }
   ],
   "source": [
    "#Create a list of numbers\n",
    "housing_prices = [124, 77.4, 93, 32, 47]\n",
    "\n",
    "print(housing_prices[0])\n",
    "print(housing_prices[1])\n",
    "print(housing_prices[2])\n",
    "\n",
    "for index in range(len(housing_prices)):\n",
    "    print(housing_prices[index])\n",
    "\n"
   ]
  },
  {
   "cell_type": "code",
   "execution_count": null,
   "metadata": {},
   "outputs": [],
   "source": []
  }
 ],
 "metadata": {
  "kernelspec": {
   "display_name": "Python 3",
   "language": "python",
   "name": "python3"
  },
  "language_info": {
   "codemirror_mode": {
    "name": "ipython",
    "version": 3
   },
   "file_extension": ".py",
   "mimetype": "text/x-python",
   "name": "python",
   "nbconvert_exporter": "python",
   "pygments_lexer": "ipython3",
   "version": "3.11.7"
  }
 },
 "nbformat": 4,
 "nbformat_minor": 2
}
