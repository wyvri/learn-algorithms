{
 "cells": [
  {
   "cell_type": "code",
   "execution_count": 11,
   "metadata": {},
   "outputs": [
    {
     "name": "stdout",
     "output_type": "stream",
     "text": [
      "wyvern\n"
     ]
    }
   ],
   "source": [
    "# print name\n",
    "\n",
    "print(\"wyvern\")"
   ]
  },
  {
   "cell_type": "code",
   "execution_count": 12,
   "metadata": {},
   "outputs": [
    {
     "name": "stdout",
     "output_type": "stream",
     "text": [
      "2\n",
      "5\n"
     ]
    }
   ],
   "source": [
    "# variable assignments\n",
    "\n",
    "num_1 = 2\n",
    "num_2 = 5\n",
    "my_name = \"wyvern\"\n",
    "\n",
    "print(num_1)\n",
    "print(num_2)"
   ]
  },
  {
   "cell_type": "code",
   "execution_count": 10,
   "metadata": {},
   "outputs": [
    {
     "name": "stdout",
     "output_type": "stream",
     "text": [
      "2 x 5 = 10\n"
     ]
    }
   ],
   "source": [
    "# multiply num 1 and num 2\n",
    "\n",
    "product = num_1 * num_2\n",
    "\n",
    "print(f\"{num_1} x {num_2} = {product}\") # f-string or string interpolation"
   ]
  },
  {
   "cell_type": "code",
   "execution_count": 15,
   "metadata": {},
   "outputs": [
    {
     "name": "stdout",
     "output_type": "stream",
     "text": [
      "43\n",
      "2\n",
      "64\n",
      "244\n",
      "50\n"
     ]
    }
   ],
   "source": [
    "# create a list of numbers\n",
    "\n",
    "housing_prices = [43, 2, 64, 244, 50]\n",
    "\n",
    "for i in housing_prices:\n",
    "    print(i)"
   ]
  }
 ],
 "metadata": {
  "kernelspec": {
   "display_name": "Python 3",
   "language": "python",
   "name": "python3"
  },
  "language_info": {
   "codemirror_mode": {
    "name": "ipython",
    "version": 3
   },
   "file_extension": ".py",
   "mimetype": "text/x-python",
   "name": "python",
   "nbconvert_exporter": "python",
   "pygments_lexer": "ipython3",
   "version": "3.10.5"
  }
 },
 "nbformat": 4,
 "nbformat_minor": 2
}
