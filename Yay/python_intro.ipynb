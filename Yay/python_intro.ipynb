{
 "cells": [
  {
   "cell_type": "code",
   "execution_count": 1,
   "metadata": {},
   "outputs": [
    {
     "name": "stdout",
     "output_type": "stream",
     "text": [
      "Kristofferson Culmer\n"
     ]
    }
   ],
   "source": [
    "# print my name\n",
    "print(\"Kristofferson Culmer\")"
   ]
  },
  {
   "cell_type": "code",
   "execution_count": 2,
   "metadata": {},
   "outputs": [
    {
     "name": "stdout",
     "output_type": "stream",
     "text": [
      "24\n",
      "35\n"
     ]
    }
   ],
   "source": [
    "# Variable assignments \n",
    "number_1 = 24\n",
    "number_2 = 35\n",
    "my_name = \"Kristofferson\"\n",
    "\n",
    "print(number_1)\n",
    "print(number_2)"
   ]
  },
  {
   "cell_type": "code",
   "execution_count": 4,
   "metadata": {},
   "outputs": [
    {
     "name": "stdout",
     "output_type": "stream",
     "text": [
      "24 * 35 = 840\n"
     ]
    }
   ],
   "source": [
    "# Multiply number 1 and numbner 2\n",
    "product = number_1 * number_2\n",
    "print(f\"{number_1} * {number_2} = {product}\")"
   ]
  },
  {
   "cell_type": "code",
   "execution_count": 3,
   "metadata": {},
   "outputs": [
    {
     "name": "stdout",
     "output_type": "stream",
     "text": [
      "124\n",
      "77.4\n",
      "93\n"
     ]
    }
   ],
   "source": [
    "# Create a list of numbers\n",
    "housing_prices = [124, 77.4, 93, 32, 47, 88, 123, 34, 7, 21]\n",
    "\n",
    "# print index 0-2 from housing prices list\n",
    "print(housing_prices[0])\n",
    "print(housing_prices[1])\n",
    "print(housing_prices[2])"
   ]
  },
  {
   "cell_type": "code",
   "execution_count": 7,
   "metadata": {},
   "outputs": [
    {
     "name": "stdout",
     "output_type": "stream",
     "text": [
      "housing_prices[0]: 124\n",
      "housing_prices[1]: 77.4\n",
      "housing_prices[2]: 93\n",
      "housing_prices[3]: 32\n",
      "housing_prices[4]: 47\n",
      "housing_prices[5]: 88\n",
      "housing_prices[6]: 123\n",
      "housing_prices[7]: 34\n",
      "housing_prices[8]: 7\n",
      "housing_prices[9]: 21\n"
     ]
    }
   ],
   "source": [
    "import numpy as np\n",
    "\n",
    "# print all items in housing prices list\n",
    "for index in range(len(housing_prices)):\n",
    "    print(f\"housing_prices[{index}]: {housing_prices[index]}\")"
   ]
  },
  {
   "cell_type": "code",
   "execution_count": 15,
   "metadata": {},
   "outputs": [
    {
     "name": "stdout",
     "output_type": "stream",
     "text": [
      "(5,)\n",
      "5\n",
      "Prediction: 2580.0 -- Actual: 200.0 -- Error: 2380.0\n",
      "Prediction: 1347.5 -- Actual: 125.0 -- Error: 1222.5\n",
      "Prediction: 5300.0 -- Actual: 400.0 -- Error: 4900.0\n",
      "Prediction: 3940.0 -- Actual: 310.0 -- Error: 3630.0\n",
      "Prediction: 1560.0 -- Actual: 144.0 -- Error: 1416.0\n"
     ]
    }
   ],
   "source": [
    "# create two numpy arrays\n",
    "\n",
    "x = np.array([1500.0, 775.0, 3100.0, 2300.0, 900.0]) # square footage\n",
    "y = np.array([200.0, 125.0, 400.0, 310.0, 144.0]) # price in 100s\n",
    "\n",
    "w = 1.7\n",
    "b = 30\n",
    "\n",
    "print(x.shape) # prints the number of items per dimension in an array\n",
    "print(x.shape[0]) # prints the number of items in an array\n",
    "\n",
    "num_items = x.shape[0]\n",
    "\n",
    "for index in range(num_items):\n",
    "    f_wb = (x[index] * w) + b # make a prediction\n",
    "    loss = f_wb - y[index] # calculate error\n",
    "    print(f\"Prediction: {f_wb} -- Actual: {y[index]} -- Error: {loss}\")"
   ]
  }
 ],
 "metadata": {
  "kernelspec": {
   "display_name": "Python 3",
   "language": "python",
   "name": "python3"
  },
  "language_info": {
   "codemirror_mode": {
    "name": "ipython",
    "version": 3
   },
   "file_extension": ".py",
   "mimetype": "text/x-python",
   "name": "python",
   "nbconvert_exporter": "python",
   "pygments_lexer": "ipython3",
   "version": "3.10.5"
  }
 },
 "nbformat": 4,
 "nbformat_minor": 2
}
